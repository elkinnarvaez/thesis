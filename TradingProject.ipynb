{
 "cells": [
  {
   "cell_type": "markdown",
   "id": "6acacc13-759d-494c-b914-b90da3cfcec6",
   "metadata": {
    "tags": []
   },
   "source": [
    "# Reinforcement Learning for Trading\n",
    "\n",
    "Author: Elkin Narváez Paz\n",
    "\n",
    "* Email: elkinnarvaez2406@gmail.com\n",
    "* LinkedIn: https://www.linkedin.com/in/elkinnarvaez/\n",
    "* GitHub: https://github.com/elkinnarvaez\n",
    "\n",
    "© All rights reserved."
   ]
  },
  {
   "cell_type": "markdown",
   "id": "78c2b536-60da-4fbc-b99c-857286a1808a",
   "metadata": {},
   "source": [
    "## Libraries"
   ]
  },
  {
   "cell_type": "code",
   "execution_count": 19,
   "id": "595df7ce-e597-4aa8-b619-6f2898789dca",
   "metadata": {},
   "outputs": [],
   "source": [
    "# Data gathering\n",
    "import http.client\n",
    "import requests\n",
    "import json\n",
    "import datetime\n",
    "\n",
    "# Statistics\n",
    "import statistics as stats"
   ]
  },
  {
   "cell_type": "markdown",
   "id": "4882d77d-e9ae-40a4-b5dc-446f541c2d6d",
   "metadata": {
    "tags": []
   },
   "source": [
    "## Data gathering"
   ]
  },
  {
   "cell_type": "code",
   "execution_count": 20,
   "id": "c5ee8950-80f0-4ffb-9032-877a4b45cb5d",
   "metadata": {},
   "outputs": [],
   "source": [
    "stockSymbols = ['MSFT', 'AAPL', 'AMZN', 'TSLA', 'GOOGL', 'GOOG', 'FB', 'NVDA', 'BRK-B', 'JPM', 'HD', 'JNJ', 'UNH', 'PG', 'BAC', 'V', 'ADBE', 'NFLX', 'CRM', 'PFE', 'DIS', 'MA', 'XOM', 'TMO', 'COST']\n",
    "indicators = {}\n",
    "\n",
    "conn = http.client.HTTPSConnection(\"yh-finance.p.rapidapi.com\")\n",
    "\n",
    "headers = {\n",
    "    'x-rapidapi-host': \"yh-finance.p.rapidapi.com\",\n",
    "    'x-rapidapi-key': \"fc1708951fmshca8b1e8a9e96604p126192jsnf88ca47a0efd\"\n",
    "    }"
   ]
  },
  {
   "cell_type": "code",
   "execution_count": 21,
   "id": "d64f3580-9d36-4935-8ad4-d030af43eff6",
   "metadata": {},
   "outputs": [
    {
     "name": "stdout",
     "output_type": "stream",
     "text": [
      "MSFT\n",
      "AAPL\n",
      "AMZN\n",
      "TSLA\n",
      "GOOGL\n",
      "GOOG\n",
      "FB\n",
      "NVDA\n",
      "BRK-B\n",
      "JPM\n",
      "HD\n",
      "JNJ\n",
      "UNH\n",
      "PG\n",
      "BAC\n",
      "V\n",
      "ADBE\n",
      "NFLX\n",
      "CRM\n",
      "PFE\n",
      "DIS\n",
      "MA\n",
      "XOM\n",
      "TMO\n",
      "COST\n"
     ]
    }
   ],
   "source": [
    "for symbol in stockSymbols:\n",
    "    print(symbol)\n",
    "    conn.request(\"GET\", \"/stock/v2/get-chart?interval=60m&symbol=%s&range=2y&region=US\"%(symbol), headers=headers)\n",
    "\n",
    "    res = conn.getresponse()\n",
    "    data = res.read()\n",
    "\n",
    "    result = json.loads(data.decode(\"utf-8\"))[\"chart\"][\"result\"][0]\n",
    "\n",
    "    indicators[symbol] = {\n",
    "        \"timestamp\": list(map(lambda x: datetime.datetime.fromtimestamp(x), result[\"timestamp\"])),\n",
    "        \"high\": result[\"indicators\"][\"quote\"][0][\"high\"],\n",
    "        \"volume\": result[\"indicators\"][\"quote\"][0][\"volume\"],\n",
    "        \"open\": result[\"indicators\"][\"quote\"][0][\"open\"],\n",
    "        \"low\": result[\"indicators\"][\"quote\"][0][\"low\"],\n",
    "        \"close\": result[\"indicators\"][\"quote\"][0][\"close\"]\n",
    "    }"
   ]
  },
  {
   "cell_type": "markdown",
   "id": "9792f366-af37-4996-874b-091043160459",
   "metadata": {},
   "source": [
    "## Creation of trading signals"
   ]
  },
  {
   "cell_type": "code",
   "execution_count": 23,
   "id": "8e2a0f4a-99fb-414a-a95b-17ee55e74684",
   "metadata": {},
   "outputs": [],
   "source": [
    "tradingSignals = {}\n",
    "for symbol in stockSymbols:\n",
    "    tradingSignals[symbol] = {}"
   ]
  },
  {
   "cell_type": "markdown",
   "id": "e4fb598f-37c4-454c-b611-8dd7866b021b",
   "metadata": {},
   "source": [
    "### Simple Moving Average (SMA)"
   ]
  },
  {
   "cell_type": "code",
   "execution_count": 32,
   "id": "74ac0fb0-cb46-40e1-aff7-8c39fc00e9b0",
   "metadata": {},
   "outputs": [],
   "source": [
    "def SMA(symbol, numPeriods):\n",
    "    \"\"\"\n",
    "        Input:\n",
    "            - symbol: the symbol of the stock for which the SMA will be calculated to -> str\n",
    "            - numPeriods: number of time periods over which to average -> int\n",
    "        Output:\n",
    "            SMA values\n",
    "    \"\"\"\n",
    "    smaValues = []\n",
    "    \n",
    "    history = [] # history of prices\n",
    "    for closePrice in indicators[symbol]['close']:\n",
    "        history.append(closePrice)\n",
    "        if(len(history) > numPeriods): # remove the oldest price because we only average over the last 'numPeriods' prices\n",
    "            del history[0]\n",
    "        smaValues.append(stats.mean(history))\n",
    "        \n",
    "    return smaValues"
   ]
  },
  {
   "cell_type": "markdown",
   "id": "528b1f0b-431f-448d-823b-8bc6310e0ab4",
   "metadata": {},
   "source": [
    "### Exponential Moving Average (EMA)"
   ]
  },
  {
   "cell_type": "code",
   "execution_count": 33,
   "id": "8454bbcd-ba81-4811-a2c6-72f8d78a6478",
   "metadata": {},
   "outputs": [],
   "source": [
    "def EMA(symbol, numPeriods):\n",
    "    \"\"\"\n",
    "        Input:\n",
    "            - symbol: the symbol of the stock for which the EMA will be calculated to -> str\n",
    "            - numPeriods: number of time periods over which to average -> int\n",
    "        Output:\n",
    "            EMA values\n",
    "    \"\"\"\n",
    "    emaValues = []\n",
    "    \n",
    "    K = 2 / (numPeriods + 1) # smoothing constant\n",
    "    ema = 0\n",
    "    \n",
    "    for closePrice in indicators[symbol]['close']:\n",
    "        if(ema == 0):\n",
    "            ema = closePrice\n",
    "        else:\n",
    "            ema = (closePrice - ema) * K + ema\n",
    "        emaValues.append(ema)\n",
    "    \n",
    "    return emaValues"
   ]
  },
  {
   "cell_type": "markdown",
   "id": "f1b78f3e-5afc-4fcf-908f-1441e8363909",
   "metadata": {},
   "source": [
    "### Absolute Price Oscillator (APO)"
   ]
  },
  {
   "cell_type": "code",
   "execution_count": 30,
   "id": "a5e0dcf5-d0a2-45a1-bc9a-2d7fe8fcc7c9",
   "metadata": {},
   "outputs": [],
   "source": [
    "def APO(symbol, numPeriodsFast, numPeriodsSlow):\n",
    "    \"\"\"\n",
    "        Input:\n",
    "            - symbol: the symbol of the stock for which the APO will be calculated to -> str\n",
    "            - numPeriodsFast: number of time periods for the fast EMA -> int\n",
    "            - numPeriodsSlow: number of time periods for the slow EMA -> int\n",
    "        Output:\n",
    "            APO values\n",
    "    \"\"\"\n",
    "    apoValues = []\n",
    "\n",
    "    emaFast = 0\n",
    "    Kfast = 2 / (numPeriodsFast + 1) # fast EMA smoothing factor\n",
    "    emaSlow = 0\n",
    "    Kslow = 2 / (numPeriodsSlow + 1) # slow EMA smoothing factor\n",
    "    \n",
    "    for closePrice in indicators[symbol]['close']:\n",
    "        if(emaFast == 0): # First observation\n",
    "            emaFast = closePrice\n",
    "            emaSlow = closePrice\n",
    "        else:\n",
    "            emaFast = (closePrice - emaFast) * Kfast + emaFast\n",
    "            emaSlow = (closePrice - emaSlow) * Kslow + emaSlow\n",
    "        apoValues.append(emaFast - emaSlow)\n",
    "        \n",
    "    return apoValues"
   ]
  },
  {
   "cell_type": "markdown",
   "id": "65d22a38-d8d6-4072-a617-4e3bcdacd6e5",
   "metadata": {},
   "source": [
    "### Moving Average Convergence Divergence (MACD)"
   ]
  },
  {
   "cell_type": "code",
   "execution_count": 31,
   "id": "7b9d40a7-2ad9-4367-a352-93a601b96287",
   "metadata": {},
   "outputs": [],
   "source": [
    "def MACD(symbol, numPeriodsFast, numPeriodsSlow, numPeriodsMacd):\n",
    "    \"\"\"\n",
    "        Input:\n",
    "            - symbol: the symbol of the stock for which the APO will be calculated to -> str\n",
    "            - numPeriodsFast: number of time periods for the fast EMA -> int\n",
    "            - numPeriodsSlow: number of time periods for the slow EMA -> int\n",
    "            - numPeriodsMacd: number of time periods for the MACD EMA -> int\n",
    "        Output:\n",
    "            MACD values\n",
    "    \"\"\"\n",
    "    macdSignalValues = []\n",
    "    macdHistogramValues = []\n",
    "\n",
    "    emaFast = 0\n",
    "    Kfast = 2 / (numPeriodsFast + 1) # fast EMA smoothing factor\n",
    "    emaSlow = 0\n",
    "    Kslow = 2 / (numPeriodsSlow + 1) # slow EMA smoothing factor\n",
    "    emaMacd = 0\n",
    "    Kmacd = 2 / (numPeriodsMacd + 1) # MACD EMA smoothing factor\n",
    "    \n",
    "    for closePrice in indicators[symbol]['close']:\n",
    "        if(emaFast == 0): # First observation\n",
    "            emaFast = closePrice\n",
    "            emaSlow = closePrice\n",
    "        else:\n",
    "            emaFast = (closePrice - emaFast) * Kfast + emaFast\n",
    "            emaSlow = (closePrice - emaSlow) * Kslow + emaSlow\n",
    "        \n",
    "        macd = emFast - emaSlow\n",
    "        if(emaMacd == 0):\n",
    "            emaMacd = macd\n",
    "        else:\n",
    "            emaMacd = (macd - emaMacd) * Kmacd + emaMacd\n",
    "        \n",
    "        macdSignalValues.append(emaMacd)\n",
    "        macdHistogramValues.append(macd - emaMacd)\n",
    "        \n",
    "    return macdSignalValues, macdHistogramValues"
   ]
  }
 ],
 "metadata": {
  "kernelspec": {
   "display_name": "Python 3 (ipykernel)",
   "language": "python",
   "name": "python3"
  },
  "language_info": {
   "codemirror_mode": {
    "name": "ipython",
    "version": 3
   },
   "file_extension": ".py",
   "mimetype": "text/x-python",
   "name": "python",
   "nbconvert_exporter": "python",
   "pygments_lexer": "ipython3",
   "version": "3.10.2"
  }
 },
 "nbformat": 4,
 "nbformat_minor": 5
}

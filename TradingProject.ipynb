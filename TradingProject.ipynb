{
 "cells": [
  {
   "cell_type": "markdown",
   "id": "6acacc13-759d-494c-b914-b90da3cfcec6",
   "metadata": {
    "tags": []
   },
   "source": [
    "# Reinforcement Learning for Trading\n",
    "\n",
    "Author: Elkin Narváez Paz\n",
    "\n",
    "* Email: elkinnarvaez2406@gmail.com\n",
    "* LinkedIn: https://www.linkedin.com/in/elkinnarvaez/\n",
    "* GitHub: https://github.com/elkinnarvaez\n",
    "\n",
    "© All rights reserved."
   ]
  },
  {
   "cell_type": "markdown",
   "id": "78c2b536-60da-4fbc-b99c-857286a1808a",
   "metadata": {},
   "source": [
    "## Libraries"
   ]
  },
  {
   "cell_type": "code",
   "execution_count": 44,
   "id": "595df7ce-e597-4aa8-b619-6f2898789dca",
   "metadata": {},
   "outputs": [],
   "source": [
    "# Data gathering\n",
    "import http.client\n",
    "import requests\n",
    "import json\n",
    "import datetime\n",
    "\n",
    "# Statistics\n",
    "import statistics as stats"
   ]
  },
  {
   "cell_type": "markdown",
   "id": "4882d77d-e9ae-40a4-b5dc-446f541c2d6d",
   "metadata": {
    "tags": []
   },
   "source": [
    "## Data gathering"
   ]
  },
  {
   "cell_type": "code",
   "execution_count": 49,
   "id": "b83f0c51-5dbc-4952-babd-86a188b33e01",
   "metadata": {},
   "outputs": [],
   "source": [
    "symbols = ['PFE']\n",
    "indicators = {}"
   ]
  },
  {
   "cell_type": "markdown",
   "id": "440f28f1-ff17-4f54-905c-4013e5015c0b",
   "metadata": {},
   "source": [
    "### Pfizer Inc. (PFE)"
   ]
  },
  {
   "cell_type": "code",
   "execution_count": 50,
   "id": "c5ee8950-80f0-4ffb-9032-877a4b45cb5d",
   "metadata": {},
   "outputs": [],
   "source": [
    "conn = http.client.HTTPSConnection(\"yh-finance.p.rapidapi.com\")\n",
    "\n",
    "headers = {\n",
    "    'x-rapidapi-host': \"yh-finance.p.rapidapi.com\",\n",
    "    'x-rapidapi-key': \"fc1708951fmshca8b1e8a9e96604p126192jsnf88ca47a0efd\"\n",
    "    }\n",
    "\n",
    "conn.request(\"GET\", \"/stock/v2/get-chart?interval=60m&symbol=PFE&range=2y&region=US\", headers=headers)\n",
    "\n",
    "res = conn.getresponse()\n",
    "data = res.read()"
   ]
  },
  {
   "cell_type": "code",
   "execution_count": 51,
   "id": "be4496d5-9a6a-4eae-954e-70d9caf33485",
   "metadata": {},
   "outputs": [],
   "source": [
    "result = json.loads(data.decode(\"utf-8\"))[\"chart\"][\"result\"][0]"
   ]
  },
  {
   "cell_type": "code",
   "execution_count": 52,
   "id": "f41ec4af-2327-42bc-a7da-268124532701",
   "metadata": {},
   "outputs": [],
   "source": [
    "indicators['PFE'] = {\n",
    "    \"timestamp\": list(map(lambda x: datetime.datetime.fromtimestamp(x), result[\"timestamp\"])),\n",
    "    \"high\": result[\"indicators\"][\"quote\"][0][\"high\"],\n",
    "    \"volume\": result[\"indicators\"][\"quote\"][0][\"volume\"],\n",
    "    \"open\": result[\"indicators\"][\"quote\"][0][\"open\"],\n",
    "    \"low\": result[\"indicators\"][\"quote\"][0][\"low\"],\n",
    "    \"close\": result[\"indicators\"][\"quote\"][0][\"close\"]\n",
    "}"
   ]
  },
  {
   "cell_type": "markdown",
   "id": "9792f366-af37-4996-874b-091043160459",
   "metadata": {},
   "source": [
    "## Creation of trading signals"
   ]
  },
  {
   "cell_type": "code",
   "execution_count": 53,
   "id": "8e2a0f4a-99fb-414a-a95b-17ee55e74684",
   "metadata": {},
   "outputs": [],
   "source": [
    "tradingSignals = {}\n",
    "for symbol in symbols:\n",
    "    tradingSignals[symbol] = {}"
   ]
  },
  {
   "cell_type": "markdown",
   "id": "9426d3b3-9ab5-482e-854a-39088884cc93",
   "metadata": {},
   "source": [
    "### Trading signals functions"
   ]
  },
  {
   "cell_type": "markdown",
   "id": "e4fb598f-37c4-454c-b611-8dd7866b021b",
   "metadata": {},
   "source": [
    "#### Simple Moving Average (SMA)"
   ]
  },
  {
   "cell_type": "code",
   "execution_count": 63,
   "id": "74ac0fb0-cb46-40e1-aff7-8c39fc00e9b0",
   "metadata": {},
   "outputs": [],
   "source": [
    "def SMA(symbol, numPeriods):\n",
    "    \"\"\"\n",
    "        Input:\n",
    "            - symbol: the symbol of the stock for which the SMA will be calculated to -> str\n",
    "            - numPeriods: number of time periods over which to average -> int\n",
    "        Output:\n",
    "            SMA values\n",
    "    \"\"\"\n",
    "    smaValues = []\n",
    "    \n",
    "    history = [] # history of prices\n",
    "    for closePrice in indicators[symbol][\"close\"]:\n",
    "        history.append(closePrice)\n",
    "        if(len(history) > numPeriods): # remove the oldest price because we only average over the last 'timePeriod' prices\n",
    "            del history[0]\n",
    "        smaValues.append(stats.mean(history))\n",
    "        \n",
    "    return smaValues"
   ]
  },
  {
   "cell_type": "markdown",
   "id": "528b1f0b-431f-448d-823b-8bc6310e0ab4",
   "metadata": {},
   "source": [
    "#### Exponential Moving Average (EMA)"
   ]
  },
  {
   "cell_type": "code",
   "execution_count": 64,
   "id": "8454bbcd-ba81-4811-a2c6-72f8d78a6478",
   "metadata": {},
   "outputs": [],
   "source": [
    "def EMA(symbol, numPeriods):\n",
    "    \"\"\"\n",
    "        Input:\n",
    "            - symbol: the symbol of the stock for which the SMA will be calculated to -> str\n",
    "            - numPeriods: number of time periods over which to average -> int\n",
    "        Output:\n",
    "            EMA values\n",
    "    \"\"\"\n",
    "    emaValues = []\n",
    "    \n",
    "    K = 2 / (numPeriods + 1) # smoothing constant\n",
    "    ema = 0\n",
    "    \n",
    "    for closePrice in indicators[symbols][\"close\"]:\n",
    "        if(ema == 0):\n",
    "            ema = closePrice\n",
    "        else:\n",
    "            ema = (closePrice - ema) * K + ema\n",
    "        emaValues.append(ema)\n",
    "    \n",
    "    return emaValues"
   ]
  },
  {
   "cell_type": "markdown",
   "id": "f1b78f3e-5afc-4fcf-908f-1441e8363909",
   "metadata": {},
   "source": [
    "#### Absolute Price Oscillator (APO)"
   ]
  },
  {
   "cell_type": "markdown",
   "id": "65d22a38-d8d6-4072-a617-4e3bcdacd6e5",
   "metadata": {},
   "source": [
    "#### Moving Average Convergence Divergence (MACD)"
   ]
  },
  {
   "cell_type": "markdown",
   "id": "4adc4a4e-6a2c-4897-8adc-ed2a3abc1fde",
   "metadata": {},
   "source": [
    "#### Bollinger bands (BBANDS)"
   ]
  },
  {
   "cell_type": "markdown",
   "id": "b6ff7eb2-c4f7-41ba-9e82-60214fcf3fe0",
   "metadata": {},
   "source": [
    "### Pfizer Inc. (PFE)"
   ]
  }
 ],
 "metadata": {
  "kernelspec": {
   "display_name": "Python 3 (ipykernel)",
   "language": "python",
   "name": "python3"
  },
  "language_info": {
   "codemirror_mode": {
    "name": "ipython",
    "version": 3
   },
   "file_extension": ".py",
   "mimetype": "text/x-python",
   "name": "python",
   "nbconvert_exporter": "python",
   "pygments_lexer": "ipython3",
   "version": "3.10.2"
  }
 },
 "nbformat": 4,
 "nbformat_minor": 5
}
